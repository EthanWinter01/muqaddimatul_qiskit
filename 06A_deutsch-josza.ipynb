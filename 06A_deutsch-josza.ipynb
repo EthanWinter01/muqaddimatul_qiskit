{
 "cells": [
  {
   "cell_type": "markdown",
   "metadata": {},
   "source": [
    "# Episode 6: Deutsch-Jozsa's Algorithm\n",
    "Deutsch-Jozsa's Algorithm is generalized idea of previously learnt Deutsch's Algorithm. \n",
    "Take the same problem but expand the idea for multiple bits.\n",
    "\n",
    "Now, we raise new concern. Let's consider\n",
    "$$f(00) = 0$$\n",
    "$$f(01) = 0$$\n",
    "$$f(10) = 0$$\n",
    "$$f(11) = 1$$\n",
    "For simplity, that is out of scope that we interest. So we make a promise that input will be either $Balance$ or $Constant$.\n",
    "\n",
    "### The Problem:\n",
    "\n",
    "**Deutsch Jozsa's Problem In/Out**\n",
    "> **Task:** Is it balance or constant?<br>\n",
    "> **Input:** $f$ is a function: $\\{0,1\\}^n \\rightarrow \\{0,1\\}$<br>\n",
    "> **Output:** $Balance$ or $Constant$ <br>\n",
    "> **Promise:** $f$ is gurantee to either constant or balance"
   ]
  },
  {
   "cell_type": "markdown",
   "metadata": {},
   "source": [
    "### Approach 1: Classical - $O(n)$"
   ]
  },
  {
   "cell_type": "code",
   "execution_count": 46,
   "metadata": {},
   "outputs": [],
   "source": [
    "# Coming Soon"
   ]
  },
  {
   "cell_type": "markdown",
   "metadata": {},
   "source": [
    "### Approach 2: Quantum (Deutsch-Jozsa's Algorithm) - $O(1)$\n",
    "\n",
    "Approach to Deustch-Jozsa to almost the same as Deutsch. Just by math proof, we can use Deutsch circuit, but change from single bit input to multiplt bits input. "
   ]
  },
  {
   "cell_type": "code",
   "execution_count": null,
   "metadata": {},
   "outputs": [],
   "source": [
    "from qiskit import QuantumCircuit\n",
    "import numpy as np\n",
    "\n",
    "def quantum_function(n: int):\n",
    "    qc = QuantumCircuit(n + 1)\n",
    "    if np.random.randint(0, 2):\n",
    "        qc.x(n)\n",
    "    if np.random.randint(0, 2):\n",
    "        return qc\n",
    "    \n",
    "    on_states = np.random.choice(range(2**n), 2**n//2, replace=False,)\n",
    "\n",
    "    def add_cx(qc, bit_string):\n",
    "        for qubit, bit in enumerate(reversed(bit_string)):\n",
    "            if bit == \"1\":\n",
    "                qc.x(qubit)\n",
    "        return qc\n",
    "\n",
    "    for state in on_states:\n",
    "        qc.barrier()  \n",
    "        qc = add_cx(qc, f\"{state:0b}\")\n",
    "        qc.mcx(list(range(n)), n)\n",
    "        qc = add_cx(qc, f\"{state:0b}\")\n",
    "\n",
    "    qc.barrier()\n",
    "\n",
    "    return qc"
   ]
  },
  {
   "cell_type": "code",
   "execution_count": null,
   "metadata": {},
   "outputs": [],
   "source": [
    "from qiskit_aer import AerSimulator\n",
    "\n",
    "def deutsch_jozsa_algorithm(f: QuantumCircuit): \n",
    "    n = f.num_qubits-1\n",
    "    qc = QuantumCircuit(n+1, n)\n",
    "    \n",
    "    # Here's how Deutsch-Jozsa magic begin \n",
    "    qc.x(n)             # Flip output bit \n",
    "    qc.h(range(n+1))    # Turn to quantum entanglement\n",
    "    qc.barrier()\n",
    "    qc.compose(f, inplace=True) # action with f\n",
    "    qc.barrier()\n",
    "    qc.h(range(n))      # Turn out of quantum entanglement\n",
    "    qc.measure(range(n),range(n))\n",
    "\n",
    "    res = AerSimulator().run(qc, shots=1, memory=True).result()\n",
    "    measurements = res.get_memory()\n",
    "    if \"1\" in measurements[0]:\n",
    "        return qc,\"Balance\"\n",
    "    return qc,\"Constant\""
   ]
  },
  {
   "cell_type": "code",
   "execution_count": 42,
   "metadata": {},
   "outputs": [
    {
     "data": {
      "text/plain": [
       "'Initial function: '"
      ]
     },
     "metadata": {},
     "output_type": "display_data"
    },
    {
     "data": {
      "text/html": [
       "<pre style=\"word-wrap: normal;white-space: pre;background: #fff0;line-height: 1.1;font-family: &quot;Courier New&quot;,Courier,monospace\">      ░                 ░                 ░                 ░ ┌───┐     ┌───┐»\n",
       "q_0: ─░────────■────────░────────■────────░────────■────────░─┤ X ├──■──┤ X ├»\n",
       "      ░        │        ░ ┌───┐  │  ┌───┐ ░ ┌───┐  │  ┌───┐ ░ ├───┤  │  ├───┤»\n",
       "q_1: ─░────────■────────░─┤ X ├──■──┤ X ├─░─┤ X ├──■──┤ X ├─░─┤ X ├──■──┤ X ├»\n",
       "      ░        │        ░ ├───┤  │  ├───┤ ░ └───┘  │  └───┘ ░ └───┘  │  └───┘»\n",
       "q_2: ─░────────■────────░─┤ X ├──■──┤ X ├─░────────■────────░────────■───────»\n",
       "      ░ ┌───┐  │  ┌───┐ ░ └───┘  │  └───┘ ░        │        ░        │       »\n",
       "q_3: ─░─┤ X ├──■──┤ X ├─░────────■────────░────────■────────░────────■───────»\n",
       "      ░ └───┘┌─┴─┐└───┘ ░      ┌─┴─┐      ░      ┌─┴─┐      ░      ┌─┴─┐     »\n",
       "q_4: ─░──────┤ X ├──────░──────┤ X ├──────░──────┤ X ├──────░──────┤ X ├─────»\n",
       "      ░      └───┘      ░      └───┘      ░      └───┘      ░      └───┘     »\n",
       "«      ░                 ░ ┌───┐     ┌───┐ ░       ░ ┌───┐     ┌───┐ ░ \n",
       "«q_0: ─░────────■────────░─┤ X ├──■──┤ X ├─░───■───░─┤ X ├──■──┤ X ├─░─\n",
       "«      ░ ┌───┐  │  ┌───┐ ░ ├───┤  │  ├───┤ ░   │   ░ └───┘  │  └───┘ ░ \n",
       "«q_1: ─░─┤ X ├──■──┤ X ├─░─┤ X ├──■──┤ X ├─░───■───░────────■────────░─\n",
       "«      ░ ├───┤  │  ├───┤ ░ ├───┤  │  ├───┤ ░   │   ░        │        ░ \n",
       "«q_2: ─░─┤ X ├──■──┤ X ├─░─┤ X ├──■──┤ X ├─░───■───░────────■────────░─\n",
       "«      ░ ├───┤  │  ├───┤ ░ └───┘  │  └───┘ ░   │   ░        │        ░ \n",
       "«q_3: ─░─┤ X ├──■──┤ X ├─░────────■────────░───■───░────────■────────░─\n",
       "«      ░ └───┘┌─┴─┐└───┘ ░      ┌─┴─┐      ░ ┌─┴─┐ ░      ┌─┴─┐      ░ \n",
       "«q_4: ─░──────┤ X ├──────░──────┤ X ├──────░─┤ X ├─░──────┤ X ├──────░─\n",
       "«      ░      └───┘      ░      └───┘      ░ └───┘ ░      └───┘      ░ </pre>"
      ],
      "text/plain": [
       "      ░                 ░                 ░                 ░ ┌───┐     ┌───┐»\n",
       "q_0: ─░────────■────────░────────■────────░────────■────────░─┤ X ├──■──┤ X ├»\n",
       "      ░        │        ░ ┌───┐  │  ┌───┐ ░ ┌───┐  │  ┌───┐ ░ ├───┤  │  ├───┤»\n",
       "q_1: ─░────────■────────░─┤ X ├──■──┤ X ├─░─┤ X ├──■──┤ X ├─░─┤ X ├──■──┤ X ├»\n",
       "      ░        │        ░ ├───┤  │  ├───┤ ░ └───┘  │  └───┘ ░ └───┘  │  └───┘»\n",
       "q_2: ─░────────■────────░─┤ X ├──■──┤ X ├─░────────■────────░────────■───────»\n",
       "      ░ ┌───┐  │  ┌───┐ ░ └───┘  │  └───┘ ░        │        ░        │       »\n",
       "q_3: ─░─┤ X ├──■──┤ X ├─░────────■────────░────────■────────░────────■───────»\n",
       "      ░ └───┘┌─┴─┐└───┘ ░      ┌─┴─┐      ░      ┌─┴─┐      ░      ┌─┴─┐     »\n",
       "q_4: ─░──────┤ X ├──────░──────┤ X ├──────░──────┤ X ├──────░──────┤ X ├─────»\n",
       "      ░      └───┘      ░      └───┘      ░      └───┘      ░      └───┘     »\n",
       "«      ░                 ░ ┌───┐     ┌───┐ ░       ░ ┌───┐     ┌───┐ ░ \n",
       "«q_0: ─░────────■────────░─┤ X ├──■──┤ X ├─░───■───░─┤ X ├──■──┤ X ├─░─\n",
       "«      ░ ┌───┐  │  ┌───┐ ░ ├───┤  │  ├───┤ ░   │   ░ └───┘  │  └───┘ ░ \n",
       "«q_1: ─░─┤ X ├──■──┤ X ├─░─┤ X ├──■──┤ X ├─░───■───░────────■────────░─\n",
       "«      ░ ├───┤  │  ├───┤ ░ ├───┤  │  ├───┤ ░   │   ░        │        ░ \n",
       "«q_2: ─░─┤ X ├──■──┤ X ├─░─┤ X ├──■──┤ X ├─░───■───░────────■────────░─\n",
       "«      ░ ├───┤  │  ├───┤ ░ └───┘  │  └───┘ ░   │   ░        │        ░ \n",
       "«q_3: ─░─┤ X ├──■──┤ X ├─░────────■────────░───■───░────────■────────░─\n",
       "«      ░ └───┘┌─┴─┐└───┘ ░      ┌─┴─┐      ░ ┌─┴─┐ ░      ┌─┴─┐      ░ \n",
       "«q_4: ─░──────┤ X ├──────░──────┤ X ├──────░─┤ X ├─░──────┤ X ├──────░─\n",
       "«      ░      └───┘      ░      └───┘      ░ └───┘ ░      └───┘      ░ "
      ]
     },
     "metadata": {},
     "output_type": "display_data"
    },
    {
     "data": {
      "text/plain": [
       "'Solver Circuit: '"
      ]
     },
     "metadata": {},
     "output_type": "display_data"
    },
    {
     "data": {
      "text/html": [
       "<pre style=\"word-wrap: normal;white-space: pre;background: #fff0;line-height: 1.1;font-family: &quot;Courier New&quot;,Courier,monospace\">     ┌───┐      ░  ░                 ░                 ░                 ░ »\n",
       "q_0: ┤ H ├──────░──░────────■────────░────────■────────░────────■────────░─»\n",
       "     ├───┤      ░  ░        │        ░ ┌───┐  │  ┌───┐ ░ ┌───┐  │  ┌───┐ ░ »\n",
       "q_1: ┤ H ├──────░──░────────■────────░─┤ X ├──■──┤ X ├─░─┤ X ├──■──┤ X ├─░─»\n",
       "     ├───┤      ░  ░        │        ░ ├───┤  │  ├───┤ ░ └───┘  │  └───┘ ░ »\n",
       "q_2: ┤ H ├──────░──░────────■────────░─┤ X ├──■──┤ X ├─░────────■────────░─»\n",
       "     ├───┤      ░  ░ ┌───┐  │  ┌───┐ ░ └───┘  │  └───┘ ░        │        ░ »\n",
       "q_3: ┤ H ├──────░──░─┤ X ├──■──┤ X ├─░────────■────────░────────■────────░─»\n",
       "     ├───┤┌───┐ ░  ░ └───┘┌─┴─┐└───┘ ░      ┌─┴─┐      ░      ┌─┴─┐      ░ »\n",
       "q_4: ┤ X ├┤ H ├─░──░──────┤ X ├──────░──────┤ X ├──────░──────┤ X ├──────░─»\n",
       "     └───┘└───┘ ░  ░      └───┘      ░      └───┘      ░      └───┘      ░ »\n",
       "c: 4/══════════════════════════════════════════════════════════════════════»\n",
       "                                                                           »\n",
       "«     ┌───┐     ┌───┐ ░                 ░ ┌───┐     ┌───┐ ░       ░ ┌───┐     »\n",
       "«q_0: ┤ X ├──■──┤ X ├─░────────■────────░─┤ X ├──■──┤ X ├─░───■───░─┤ X ├──■──»\n",
       "«     ├───┤  │  ├───┤ ░ ┌───┐  │  ┌───┐ ░ ├───┤  │  ├───┤ ░   │   ░ └───┘  │  »\n",
       "«q_1: ┤ X ├──■──┤ X ├─░─┤ X ├──■──┤ X ├─░─┤ X ├──■──┤ X ├─░───■───░────────■──»\n",
       "«     └───┘  │  └───┘ ░ ├───┤  │  ├───┤ ░ ├───┤  │  ├───┤ ░   │   ░        │  »\n",
       "«q_2: ───────■────────░─┤ X ├──■──┤ X ├─░─┤ X ├──■──┤ X ├─░───■───░────────■──»\n",
       "«            │        ░ ├───┤  │  ├───┤ ░ └───┘  │  └───┘ ░   │   ░        │  »\n",
       "«q_3: ───────■────────░─┤ X ├──■──┤ X ├─░────────■────────░───■───░────────■──»\n",
       "«          ┌─┴─┐      ░ └───┘┌─┴─┐└───┘ ░      ┌─┴─┐      ░ ┌─┴─┐ ░      ┌─┴─┐»\n",
       "«q_4: ─────┤ X ├──────░──────┤ X ├──────░──────┤ X ├──────░─┤ X ├─░──────┤ X ├»\n",
       "«          └───┘      ░      └───┘      ░      └───┘      ░ └───┘ ░      └───┘»\n",
       "«c: 4/════════════════════════════════════════════════════════════════════════»\n",
       "«                                                                             »\n",
       "«     ┌───┐ ░  ░ ┌───┐┌─┐         \n",
       "«q_0: ┤ X ├─░──░─┤ H ├┤M├─────────\n",
       "«     └───┘ ░  ░ ├───┤└╥┘┌─┐      \n",
       "«q_1: ──────░──░─┤ H ├─╫─┤M├──────\n",
       "«           ░  ░ ├───┤ ║ └╥┘┌─┐   \n",
       "«q_2: ──────░──░─┤ H ├─╫──╫─┤M├───\n",
       "«           ░  ░ ├───┤ ║  ║ └╥┘┌─┐\n",
       "«q_3: ──────░──░─┤ H ├─╫──╫──╫─┤M├\n",
       "«           ░  ░ └───┘ ║  ║  ║ └╥┘\n",
       "«q_4: ──────░──░───────╫──╫──╫──╫─\n",
       "«           ░  ░       ║  ║  ║  ║ \n",
       "«c: 4/═════════════════╩══╩══╩══╩═\n",
       "«                      0  1  2  3 </pre>"
      ],
      "text/plain": [
       "     ┌───┐      ░  ░                 ░                 ░                 ░ »\n",
       "q_0: ┤ H ├──────░──░────────■────────░────────■────────░────────■────────░─»\n",
       "     ├───┤      ░  ░        │        ░ ┌───┐  │  ┌───┐ ░ ┌───┐  │  ┌───┐ ░ »\n",
       "q_1: ┤ H ├──────░──░────────■────────░─┤ X ├──■──┤ X ├─░─┤ X ├──■──┤ X ├─░─»\n",
       "     ├───┤      ░  ░        │        ░ ├───┤  │  ├───┤ ░ └───┘  │  └───┘ ░ »\n",
       "q_2: ┤ H ├──────░──░────────■────────░─┤ X ├──■──┤ X ├─░────────■────────░─»\n",
       "     ├───┤      ░  ░ ┌───┐  │  ┌───┐ ░ └───┘  │  └───┘ ░        │        ░ »\n",
       "q_3: ┤ H ├──────░──░─┤ X ├──■──┤ X ├─░────────■────────░────────■────────░─»\n",
       "     ├───┤┌───┐ ░  ░ └───┘┌─┴─┐└───┘ ░      ┌─┴─┐      ░      ┌─┴─┐      ░ »\n",
       "q_4: ┤ X ├┤ H ├─░──░──────┤ X ├──────░──────┤ X ├──────░──────┤ X ├──────░─»\n",
       "     └───┘└───┘ ░  ░      └───┘      ░      └───┘      ░      └───┘      ░ »\n",
       "c: 4/══════════════════════════════════════════════════════════════════════»\n",
       "                                                                           »\n",
       "«     ┌───┐     ┌───┐ ░                 ░ ┌───┐     ┌───┐ ░       ░ ┌───┐     »\n",
       "«q_0: ┤ X ├──■──┤ X ├─░────────■────────░─┤ X ├──■──┤ X ├─░───■───░─┤ X ├──■──»\n",
       "«     ├───┤  │  ├───┤ ░ ┌───┐  │  ┌───┐ ░ ├───┤  │  ├───┤ ░   │   ░ └───┘  │  »\n",
       "«q_1: ┤ X ├──■──┤ X ├─░─┤ X ├──■──┤ X ├─░─┤ X ├──■──┤ X ├─░───■───░────────■──»\n",
       "«     └───┘  │  └───┘ ░ ├───┤  │  ├───┤ ░ ├───┤  │  ├───┤ ░   │   ░        │  »\n",
       "«q_2: ───────■────────░─┤ X ├──■──┤ X ├─░─┤ X ├──■──┤ X ├─░───■───░────────■──»\n",
       "«            │        ░ ├───┤  │  ├───┤ ░ └───┘  │  └───┘ ░   │   ░        │  »\n",
       "«q_3: ───────■────────░─┤ X ├──■──┤ X ├─░────────■────────░───■───░────────■──»\n",
       "«          ┌─┴─┐      ░ └───┘┌─┴─┐└───┘ ░      ┌─┴─┐      ░ ┌─┴─┐ ░      ┌─┴─┐»\n",
       "«q_4: ─────┤ X ├──────░──────┤ X ├──────░──────┤ X ├──────░─┤ X ├─░──────┤ X ├»\n",
       "«          └───┘      ░      └───┘      ░      └───┘      ░ └───┘ ░      └───┘»\n",
       "«c: 4/════════════════════════════════════════════════════════════════════════»\n",
       "«                                                                             »\n",
       "«     ┌───┐ ░  ░ ┌───┐┌─┐         \n",
       "«q_0: ┤ X ├─░──░─┤ H ├┤M├─────────\n",
       "«     └───┘ ░  ░ ├───┤└╥┘┌─┐      \n",
       "«q_1: ──────░──░─┤ H ├─╫─┤M├──────\n",
       "«           ░  ░ ├───┤ ║ └╥┘┌─┐   \n",
       "«q_2: ──────░──░─┤ H ├─╫──╫─┤M├───\n",
       "«           ░  ░ ├───┤ ║  ║ └╥┘┌─┐\n",
       "«q_3: ──────░──░─┤ H ├─╫──╫──╫─┤M├\n",
       "«           ░  ░ └───┘ ║  ║  ║ └╥┘\n",
       "«q_4: ──────░──░───────╫──╫──╫──╫─\n",
       "«           ░  ░       ║  ║  ║  ║ \n",
       "«c: 4/═════════════════╩══╩══╩══╩═\n",
       "«                      0  1  2  3 "
      ]
     },
     "metadata": {},
     "output_type": "display_data"
    },
    {
     "data": {
      "text/plain": [
       "'Balance'"
      ]
     },
     "metadata": {},
     "output_type": "display_data"
    }
   ],
   "source": [
    "n = int(input())\n",
    "\n",
    "f = quantum_function(n)\n",
    "display(\"Initial function: \", f.draw())\n",
    "circ,ans = deutsch_jozsa_algorithm(f)\n",
    "display(\"Solver Circuit: \",circ.draw())\n",
    "display(ans)"
   ]
  },
  {
   "cell_type": "markdown",
   "metadata": {},
   "source": [
    "### Math Proof:\n",
    "Coming Soon"
   ]
  }
 ],
 "metadata": {
  "kernelspec": {
   "display_name": "CUQC",
   "language": "python",
   "name": "python3"
  },
  "language_info": {
   "codemirror_mode": {
    "name": "ipython",
    "version": 3
   },
   "file_extension": ".py",
   "mimetype": "text/x-python",
   "name": "python",
   "nbconvert_exporter": "python",
   "pygments_lexer": "ipython3",
   "version": "3.12.5"
  }
 },
 "nbformat": 4,
 "nbformat_minor": 2
}
