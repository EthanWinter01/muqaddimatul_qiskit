{
 "cells": [
  {
   "cell_type": "markdown",
   "metadata": {},
   "source": [
    "# Deutsch's Algorithm Problem\n",
    "\n",
    "this sheet is maded to replicate Computer Olympiad computation problem sheet. But now we made it for specifically quantum computing problem\n",
    "\n",
    "---\n",
    "\n",
    "### **Balance or Constant**\n",
    "Coming Soon\n",
    "\n",
    "#### **Input:**\n",
    "- single line input, $case$ is situation that black box would one of the function.  $1 \\leq case \\leq 4$\n",
    "\n",
    "#### **Output:**\n",
    "- single line output, return statement $Balance$ or $Constant$"
   ]
  },
  {
   "cell_type": "markdown",
   "metadata": {},
   "source": [
    "| Input | Output |\n",
    "| :--- | :--- |\n",
    "| 1 | Balance |\n",
    "| 2 | Balance |\n",
    "| 3 | Constant | \n",
    "| 4 | Constant |"
   ]
  }
 ],
 "metadata": {
  "language_info": {
   "name": "python"
  }
 },
 "nbformat": 4,
 "nbformat_minor": 2
}
