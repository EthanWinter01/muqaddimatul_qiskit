{
 "cells": [
  {
   "cell_type": "markdown",
   "metadata": {},
   "source": [
    "# Episode 5: Deutsch's Algorithm\n",
    "Deutsch's Algorithm is one of the first algorithm to demonstrate quantum superiority against classical paradigm. By the way, It's still very theoretical and still did not provide significant change in term of practicality.\n",
    "\n",
    "\n",
    "### The Problem:\n",
    "Given there is four kind of function for 1 bit.\n",
    "\n",
    "| $function$ | $result$ |\n",
    "| :----: | :----: |\n",
    "| $$f_1: Identity$$ | $$\\ket{0} \\rightarrow \\ket{0}$$ $$\\ket{1} \\rightarrow \\ket{1}$$ |\n",
    "| $$f_2: Negation$$ | $$\\ket{0} \\rightarrow \\ket{1}$$ $$\\ket{1} \\rightarrow \\ket{0}$$ |\n",
    "| $$f_3: Constant-0$$ | $$\\ket{0} \\rightarrow \\ket{0}$$ $$\\ket{1} \\rightarrow \\ket{0}$$ |\n",
    "| $$f_4: Constant-1$$ | $$\\ket{0} \\rightarrow \\ket{1}$$ $$\\ket{1} \\rightarrow \\ket{1}$$ |\n",
    "\n",
    "We define those that can possibly return as 0 or 1 depend on input as **balance**, and those independent from its input as **constant**. In this case; $f_1$ and $f_2$ are balance function, and $f_3$ and $f_4$ are constant function.\n",
    "\n",
    "Now, we interested in solving whether the function is **balance** or **constant**. How???"
   ]
  },
  {
   "cell_type": "markdown",
   "metadata": {},
   "source": [
    "### Solution:\n",
    "\n",
    "In conclusion, we can simply define problem as followed:\n",
    "\n",
    "**Deutsch's Problem In/Out**\n",
    "> **Task:** Is it balance or constant?<br>\n",
    "> **Input:** $f$ is function; $f \\in$ {$f_1$, $f_2$, $f_3$, $f_4$}<br>\n",
    "> **Output:** $Balance$ or $Constant$"
   ]
  },
  {
   "cell_type": "markdown",
   "metadata": {},
   "source": [
    "### Approach 1: Classical - $O(2)$"
   ]
  },
  {
   "cell_type": "code",
   "execution_count": 2,
   "metadata": {},
   "outputs": [],
   "source": [
    "# list all function \n",
    "def classical_function(case: int):\n",
    "    if case not in [1, 2, 3, 4]:\n",
    "        raise ValueError(\"`case` must be in set of {1,2,3,4}\")\n",
    "    def f_1(x: bool):\n",
    "        return x\n",
    "    def f_2(x: bool):\n",
    "        return not x\n",
    "    def f_3(x: bool):\n",
    "        return False\n",
    "    def f_4(x: bool):\n",
    "        return True\n",
    "    if case==1:\n",
    "        return f_1\n",
    "    if case==2:\n",
    "        return f_2\n",
    "    if case==3:\n",
    "        return f_3\n",
    "    if case==4:\n",
    "        return f_4"
   ]
  },
  {
   "cell_type": "markdown",
   "metadata": {},
   "source": [
    "This is the classical approach, simply input `True` and `False`, and determined whether is it equal or not"
   ]
  },
  {
   "cell_type": "code",
   "execution_count": 3,
   "metadata": {},
   "outputs": [
    {
     "data": {
      "text/plain": [
       "'Balance'"
      ]
     },
     "metadata": {},
     "output_type": "display_data"
    },
    {
     "data": {
      "text/plain": [
       "'Balance'"
      ]
     },
     "metadata": {},
     "output_type": "display_data"
    },
    {
     "data": {
      "text/plain": [
       "'Constant'"
      ]
     },
     "metadata": {},
     "output_type": "display_data"
    },
    {
     "data": {
      "text/plain": [
       "'Constant'"
      ]
     },
     "metadata": {},
     "output_type": "display_data"
    }
   ],
   "source": [
    "def solve(f):\n",
    "    if f(True)==f(False):\n",
    "        return \"Constant\"\n",
    "    else:\n",
    "        return \"Balance\"\n",
    "display(solve(classical_function(1)))\n",
    "display(solve(classical_function(2)))\n",
    "display(solve(classical_function(3)))\n",
    "display(solve(classical_function(4)))"
   ]
  },
  {
   "cell_type": "markdown",
   "metadata": {},
   "source": [
    "### Approach 2: Quantum (Deutsch's Algorithm) - $O(1)$\n",
    "\n",
    "Eventhough, the code is simple. Quantum algorithm can solve this in only one action with **Deutsch's algorithm**.\n",
    "\n",
    "By the way, we have to encode function with quantum circuit."
   ]
  },
  {
   "cell_type": "code",
   "execution_count": 4,
   "metadata": {},
   "outputs": [],
   "source": [
    "from qiskit import QuantumCircuit\n",
    "\n",
    "def quantum_function(case: int):\n",
    "    if case not in [1, 2, 3, 4]:\n",
    "        raise ValueError(\"`case` must be in set of {1,2,3,4}\")\n",
    "    f = QuantumCircuit(2)\n",
    "    if case in [1, 2]:\n",
    "        f.cx(0, 1)\n",
    "    if case in [2, 4]:\n",
    "        f.x(1)\n",
    "    return f"
   ]
  },
  {
   "cell_type": "code",
   "execution_count": 5,
   "metadata": {},
   "outputs": [
    {
     "data": {
      "text/plain": [
       "'f_1: identity'"
      ]
     },
     "metadata": {},
     "output_type": "display_data"
    },
    {
     "data": {
      "text/html": [
       "<pre style=\"word-wrap: normal;white-space: pre;background: #fff0;line-height: 1.1;font-family: &quot;Courier New&quot;,Courier,monospace\">          \n",
       "q_0: ──■──\n",
       "     ┌─┴─┐\n",
       "q_1: ┤ X ├\n",
       "     └───┘</pre>"
      ],
      "text/plain": [
       "          \n",
       "q_0: ──■──\n",
       "     ┌─┴─┐\n",
       "q_1: ┤ X ├\n",
       "     └───┘"
      ]
     },
     "metadata": {},
     "output_type": "display_data"
    },
    {
     "data": {
      "text/plain": [
       "'f_2: negative'"
      ]
     },
     "metadata": {},
     "output_type": "display_data"
    },
    {
     "data": {
      "text/html": [
       "<pre style=\"word-wrap: normal;white-space: pre;background: #fff0;line-height: 1.1;font-family: &quot;Courier New&quot;,Courier,monospace\">               \n",
       "q_0: ──■───────\n",
       "     ┌─┴─┐┌───┐\n",
       "q_1: ┤ X ├┤ X ├\n",
       "     └───┘└───┘</pre>"
      ],
      "text/plain": [
       "               \n",
       "q_0: ──■───────\n",
       "     ┌─┴─┐┌───┐\n",
       "q_1: ┤ X ├┤ X ├\n",
       "     └───┘└───┘"
      ]
     },
     "metadata": {},
     "output_type": "display_data"
    },
    {
     "data": {
      "text/plain": [
       "'f_3: constant-0'"
      ]
     },
     "metadata": {},
     "output_type": "display_data"
    },
    {
     "data": {
      "text/html": [
       "<pre style=\"word-wrap: normal;white-space: pre;background: #fff0;line-height: 1.1;font-family: &quot;Courier New&quot;,Courier,monospace\">     \n",
       "q_0: \n",
       "     \n",
       "q_1: \n",
       "     </pre>"
      ],
      "text/plain": [
       "     \n",
       "q_0: \n",
       "     \n",
       "q_1: \n",
       "     "
      ]
     },
     "metadata": {},
     "output_type": "display_data"
    },
    {
     "data": {
      "text/plain": [
       "'f_4: constant-1'"
      ]
     },
     "metadata": {},
     "output_type": "display_data"
    },
    {
     "data": {
      "text/html": [
       "<pre style=\"word-wrap: normal;white-space: pre;background: #fff0;line-height: 1.1;font-family: &quot;Courier New&quot;,Courier,monospace\">          \n",
       "q_0: ─────\n",
       "     ┌───┐\n",
       "q_1: ┤ X ├\n",
       "     └───┘</pre>"
      ],
      "text/plain": [
       "          \n",
       "q_0: ─────\n",
       "     ┌───┐\n",
       "q_1: ┤ X ├\n",
       "     └───┘"
      ]
     },
     "metadata": {},
     "output_type": "display_data"
    }
   ],
   "source": [
    "# Here are list of encoded function in QuantumCircuit\n",
    "display(\"f_1: identity\", quantum_function(1).draw())\n",
    "display(\"f_2: negative\", quantum_function(2).draw())\n",
    "display(\"f_3: constant-0\", quantum_function(3).draw())\n",
    "display(\"f_4: constant-1\", quantum_function(4).draw())"
   ]
  },
  {
   "cell_type": "markdown",
   "metadata": {},
   "source": [
    "`q0` is used as input bit, while `q1` is used as auxilary bit that always input as $\\ket{0}$.\n",
    "\n",
    "Now we can solve them by following code:"
   ]
  },
  {
   "cell_type": "code",
   "execution_count": null,
   "metadata": {},
   "outputs": [],
   "source": [
    "from qiskit_aer import AerSimulator\n",
    "\n",
    "def deutsch_algorithm(f: QuantumCircuit):\n",
    "    n = f.num_qubits-1\n",
    "    qc = QuantumCircuit(n+1, n)\n",
    "    \n",
    "    qc.x(n)\n",
    "    qc.h(range(n+1))\n",
    "\n",
    "    qc.barrier()\n",
    "    qc.compose(f, inplace=True)\n",
    "    qc.barrier()\n",
    "\n",
    "    qc.h(range(n))\n",
    "    qc.measure(range(n),range(n))\n",
    "\n",
    "    res = AerSimulator().run(qc,shot=1,memory=True).result()\n",
    "    measurement = res.get_memory()\n",
    "    if measurement[0]==\"1\":\n",
    "        return qc,\"Balance\"\n",
    "    return qc,\"Constant\""
   ]
  },
  {
   "cell_type": "code",
   "execution_count": 12,
   "metadata": {},
   "outputs": [
    {
     "data": {
      "text/plain": [
       "'Initial function: '"
      ]
     },
     "metadata": {},
     "output_type": "display_data"
    },
    {
     "data": {
      "text/html": [
       "<pre style=\"word-wrap: normal;white-space: pre;background: #fff0;line-height: 1.1;font-family: &quot;Courier New&quot;,Courier,monospace\">               \n",
       "q_0: ──■───────\n",
       "     ┌─┴─┐┌───┐\n",
       "q_1: ┤ X ├┤ X ├\n",
       "     └───┘└───┘</pre>"
      ],
      "text/plain": [
       "               \n",
       "q_0: ──■───────\n",
       "     ┌─┴─┐┌───┐\n",
       "q_1: ┤ X ├┤ X ├\n",
       "     └───┘└───┘"
      ]
     },
     "metadata": {},
     "output_type": "display_data"
    },
    {
     "data": {
      "text/plain": [
       "'Solver Circuit: '"
      ]
     },
     "metadata": {},
     "output_type": "display_data"
    },
    {
     "data": {
      "text/html": [
       "<pre style=\"word-wrap: normal;white-space: pre;background: #fff0;line-height: 1.1;font-family: &quot;Courier New&quot;,Courier,monospace\">     ┌───┐      ░            ░ ┌───┐┌─┐\n",
       "q_0: ┤ H ├──────░───■────────░─┤ H ├┤M├\n",
       "     ├───┤┌───┐ ░ ┌─┴─┐┌───┐ ░ └───┘└╥┘\n",
       "q_1: ┤ X ├┤ H ├─░─┤ X ├┤ X ├─░───────╫─\n",
       "     └───┘└───┘ ░ └───┘└───┘ ░       ║ \n",
       "c: 1/════════════════════════════════╩═\n",
       "                                     0 </pre>"
      ],
      "text/plain": [
       "     ┌───┐      ░            ░ ┌───┐┌─┐\n",
       "q_0: ┤ H ├──────░───■────────░─┤ H ├┤M├\n",
       "     ├───┤┌───┐ ░ ┌─┴─┐┌───┐ ░ └───┘└╥┘\n",
       "q_1: ┤ X ├┤ H ├─░─┤ X ├┤ X ├─░───────╫─\n",
       "     └───┘└───┘ ░ └───┘└───┘ ░       ║ \n",
       "c: 1/════════════════════════════════╩═\n",
       "                                     0 "
      ]
     },
     "metadata": {},
     "output_type": "display_data"
    },
    {
     "data": {
      "text/plain": [
       "'Balance'"
      ]
     },
     "metadata": {},
     "output_type": "display_data"
    }
   ],
   "source": [
    "n=int(input())\n",
    "\n",
    "f = quantum_function(n)\n",
    "display(\"Initial function: \", f.draw())\n",
    "circ,ans = deutsch_algorithm(f)\n",
    "display(\"Solver Circuit: \",circ.draw())\n",
    "display(ans)\n"
   ]
  },
  {
   "cell_type": "markdown",
   "metadata": {},
   "source": [
    "### Mathematical Proof:\n",
    "Comming Soon"
   ]
  }
 ],
 "metadata": {
  "kernelspec": {
   "display_name": "CUQC",
   "language": "python",
   "name": "python3"
  },
  "language_info": {
   "codemirror_mode": {
    "name": "ipython",
    "version": 3
   },
   "file_extension": ".py",
   "mimetype": "text/x-python",
   "name": "python",
   "nbconvert_exporter": "python",
   "pygments_lexer": "ipython3",
   "version": "3.12.5"
  }
 },
 "nbformat": 4,
 "nbformat_minor": 2
}
