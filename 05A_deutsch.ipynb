{
 "cells": [
  {
   "cell_type": "markdown",
   "metadata": {},
   "source": [
    "# Episode 5: Deutsch's Algorithm\n",
    "Deutsch's Algorithm is one of the first algorithm to demonstrate quantum superiority against classical paradigm. By the way, It's still very theoretical and still did not provide significant change in term of practicality.\n",
    "\n",
    "\n",
    "### The Problem:\n",
    "Given there is four kind of function for 1 bit.\n",
    "\n",
    "$$f_1: Identity$$\n",
    "$$\\ket{0} \\rightarrow \\ket{0}$$\n",
    "$$\\ket{1} \\rightarrow \\ket{1}$$\n",
    "\n",
    "$$f_2: Negation$$\n",
    "$$\\ket{0} \\rightarrow \\ket{1}$$\n",
    "$$\\ket{1} \\rightarrow \\ket{0}$$\n",
    "\n",
    "$$f_3: Constant-0$$\n",
    "$$\\ket{0} \\rightarrow \\ket{0}$$\n",
    "$$\\ket{1} \\rightarrow \\ket{0}$$\n",
    "\n",
    "$$f_4: Constant-1$$\n",
    "$$\\ket{0} \\rightarrow \\ket{1}$$\n",
    "$$\\ket{1} \\rightarrow \\ket{1}$$\n",
    "\n",
    "We define those that can possibly return as 0 or 1 depend on input as **balance**, and those independent from its input as **constant**. In this case; $f_1$ and $f_2$ are balance function, and $f_3$ and $f_4$ are constant function.\n",
    "\n",
    "Now, we interested in solving whether the function is **balance** or **constant**. How???"
   ]
  },
  {
   "cell_type": "markdown",
   "metadata": {},
   "source": [
    "In conclusion, we can simply define problem as followed:\n",
    "\n",
    "**Deutsch's Problem In/Out**\n",
    "> **Task:** Is it balance or constant?<br>\n",
    "> **Input:** {$f_1$, $f_2$, $f_3$, $f_4$}<br>\n",
    "> **Output:** 1 bit state \n",
    "\n",
    "Note: one-bit states is define as binary state that can encode to two value, such as $\\{0,1\\}$, $\\{True, False\\}$ or $\\{Balance, Constant\\}$"
   ]
  },
  {
   "cell_type": "code",
   "execution_count": 1,
   "metadata": {},
   "outputs": [],
   "source": [
    "# list all function \n",
    "def f_1(x):\n",
    "    return x\n",
    "\n",
    "def f_2(x):\n",
    "    return not x\n",
    "\n",
    "def f_3(x):\n",
    "    return False\n",
    "\n",
    "def f_4(x):\n",
    "    return True"
   ]
  },
  {
   "cell_type": "markdown",
   "metadata": {},
   "source": [
    "This is the classical approach, simply input `True` and `False`, and determined whether is it equal."
   ]
  },
  {
   "cell_type": "code",
   "execution_count": 5,
   "metadata": {},
   "outputs": [
    {
     "data": {
      "text/plain": [
       "'Balance'"
      ]
     },
     "metadata": {},
     "output_type": "display_data"
    },
    {
     "data": {
      "text/plain": [
       "'Balance'"
      ]
     },
     "metadata": {},
     "output_type": "display_data"
    },
    {
     "data": {
      "text/plain": [
       "'Constant'"
      ]
     },
     "metadata": {},
     "output_type": "display_data"
    },
    {
     "data": {
      "text/plain": [
       "'Constant'"
      ]
     },
     "metadata": {},
     "output_type": "display_data"
    }
   ],
   "source": [
    "def solve(f):\n",
    "    if f(True)==f(False):\n",
    "        return \"Constant\"\n",
    "    else:\n",
    "        return \"Balance\"\n",
    "display(solve(f_1))\n",
    "display(solve(f_2))\n",
    "display(solve(f_3))\n",
    "display(solve(f_4))"
   ]
  },
  {
   "cell_type": "markdown",
   "metadata": {},
   "source": [
    "Eventhough, the code is simple. "
   ]
  },
  {
   "cell_type": "code",
   "execution_count": null,
   "metadata": {},
   "outputs": [],
   "source": []
  }
 ],
 "metadata": {
  "kernelspec": {
   "display_name": "CUQC",
   "language": "python",
   "name": "python3"
  },
  "language_info": {
   "codemirror_mode": {
    "name": "ipython",
    "version": 3
   },
   "file_extension": ".py",
   "mimetype": "text/x-python",
   "name": "python",
   "nbconvert_exporter": "python",
   "pygments_lexer": "ipython3",
   "version": "3.12.5"
  }
 },
 "nbformat": 4,
 "nbformat_minor": 2
}
