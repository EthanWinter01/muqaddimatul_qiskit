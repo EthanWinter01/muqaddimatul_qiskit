{
 "cells": [
  {
   "cell_type": "markdown",
   "metadata": {},
   "source": [
    "# Episode 01: Basic of Quantum Circuit and Mathematical Representation\n",
    "Written on: 12/6/2024\n",
    "\n",
    "In the first episode for `al-muqaddimat-ul-qiskit`, we would like to start with basic tool."
   ]
  },
  {
   "cell_type": "markdown",
   "metadata": {},
   "source": [
    "### 1. Basic Fixed Value Gates\n",
    "These are list of primitive avaible in qiskit. Access them via `QuantumCircuit`.\n",
    "\n",
    "There are more fixed angle rotation gates:\n",
    "| Gate | Description | simplify | code |\n",
    "| :--- | :--- | :--- | :-- |\n",
    "| XGate | Single-qubit Pauli-X gate ($\\sigma_x$) | bit flip| qc.x(_line-of-circ_) |\n",
    "| YGate | Single-qubit Pauli-Y gate ($\\sigma_y$) | bit+phase flip | qc.y(_line-of-circ_) |\n",
    "| ZGate | Single-qubit Pauli-Z gate ($\\sigma_z$) | phase flip | qc.z(_line-of-circ_) |\n",
    "| TGate | Single-qubit Pauli-Z gate ($\\sigma_z$) | phase rotation by $\\dfrac{\\pi}{4}$ | qc.t(_line-of-circ_) |\n",
    "| SGate | Single-qubit Pauli-Z gate ($\\sigma_z$) | phase rotation by $\\dfrac{\\pi}{2}$ | qc.s(_line-of-circ_) |\n",
    "| HGate | Single-qubit Pauli-Z gate ($\\sigma_z$) | to **entanglement** | qc.h(_line-of-circ_) |\n",
    "\n",
    "\n",
    "### 2. Parameterized Gates\n",
    "There are more fixed angle rotation gates:\n",
    "| Gate | Description | simplify | code |\n",
    "| :--- | :--- | :--- | :-- |\n",
    "| RXGate | $RX(\\theta)$ | rototion in X-axis by $\\theta\\degree$ | |\n",
    "| RYGate | $RY(\\theta)$ | rototion in Y-axis by $\\theta\\degree$ | |\n",
    "| RZGate | $RZ(\\theta)$ | rototion in Z-axis by $\\theta\\degree$ | |\n",
    "\n",
    "### 3. Controlled Gates"
   ]
  },
  {
   "cell_type": "markdown",
   "metadata": {},
   "source": [
    "---"
   ]
  },
  {
   "cell_type": "markdown",
   "metadata": {},
   "source": [
    "#### 1.1 XGate\n",
    "\n",
    "The gate is equivalent to a classical bit flip.\n",
    "\n",
    "There is there well know method to call Pauli-X gate. \n",
    "1. called `from qiskit import QuantumCircuit` then use `qc.x()` on to circuit\n",
    "2. called `from qiskit.circuit.library import XGate` then use `XGate`\n",
    "3. create your own by `Operator`, by this method, you must implement gate on `Statevector`\n",
    "\n",
    "**Matrix Representation:**\n",
    "$$ \n",
    "X\n",
    " =\n",
    "\\begin{pmatrix}\n",
    "1 & 0 \\\\\n",
    "0 & 1\n",
    "\\end{pmatrix}\n",
    "$$\n",
    "\n",
    "**Simplify:**\n",
    "\n",
    "$$\n",
    "\\ket{0} \n",
    "\\rightarrow \n",
    "\\ket{1}$$\n",
    "\n",
    "$$\n",
    "\\ket{1} \n",
    "\\rightarrow \n",
    "\\ket{0}\n",
    "$$"
   ]
  },
  {
   "cell_type": "code",
   "execution_count": 6,
   "metadata": {},
   "outputs": [
    {
     "data": {
      "text/html": [
       "<pre style=\"word-wrap: normal;white-space: pre;background: #fff0;line-height: 1.1;font-family: &quot;Courier New&quot;,Courier,monospace\">   ┌───┐\n",
       "q: ┤ X ├\n",
       "   └───┘</pre>"
      ],
      "text/plain": [
       "   ┌───┐\n",
       "q: ┤ X ├\n",
       "   └───┘"
      ]
     },
     "metadata": {},
     "output_type": "display_data"
    },
    {
     "data": {
      "text/plain": [
       "array([[0.+0.j, 1.+0.j],\n",
       "       [1.+0.j, 0.+0.j]])"
      ]
     },
     "metadata": {},
     "output_type": "display_data"
    },
    {
     "data": {
      "text/plain": [
       "array([[0.5+0.5j, 0.5-0.5j],\n",
       "       [0.5-0.5j, 0.5+0.5j]])"
      ]
     },
     "metadata": {},
     "output_type": "display_data"
    },
    {
     "data": {
      "text/plain": [
       "array([[1.+0.j, 0.+0.j, 0.+0.j, 0.+0.j],\n",
       "       [0.+0.j, 0.+0.j, 0.+0.j, 1.+0.j],\n",
       "       [0.+0.j, 0.+0.j, 1.+0.j, 0.+0.j],\n",
       "       [0.+0.j, 1.+0.j, 0.+0.j, 0.+0.j]])"
      ]
     },
     "metadata": {},
     "output_type": "display_data"
    }
   ],
   "source": [
    "# 1. using x() from library\n",
    "from qiskit import QuantumCircuit\n",
    "qc = QuantumCircuit(1)\n",
    "qc.x(0)\n",
    "display(qc.draw())\n",
    "\n",
    "# 2. using XGate from library\n",
    "from qiskit.circuit.library import XGate\n",
    "gate = XGate()\n",
    "display(gate.to_matrix())             # X gate\n",
    "display(gate.power(1/2).to_matrix())  # √X gate\n",
    "display(gate.control(1).to_matrix())  # CX (controlled X)\n",
    "\n",
    "# 3. create your own\n",
    "from qiskit.quantum_info import Operator\n",
    "X = Operator([[0, 1], [1, 0]])"
   ]
  },
  {
   "cell_type": "markdown",
   "metadata": {},
   "source": [
    "**NOTE:** \n",
    "1. As you can see, in qiskit we can replicate ``CXGate`` using ``XGate.control(1)``.\n",
    "2. Mathemical represention of $\\mathbb{C}$ is $Z = a+bj$ while $a$ represent real part or $Re(Z)$ and $b$ representing the complex coefficient or $Im(Z)$ "
   ]
  },
  {
   "cell_type": "markdown",
   "metadata": {},
   "source": [
    "---"
   ]
  },
  {
   "cell_type": "markdown",
   "metadata": {},
   "source": [
    "#### 1.2 YGate\n",
    "\n",
    "The gate is equivalent to a bit+phase flip.\n",
    "\n",
    "There is there well know method to call Pauli-Z gate. \n",
    "1. called `from qiskit import QuantumCircuit` then use `qc.y()` on to circuit\n",
    "2. called `from qiskit.circuit.library import YGate` then use `YGate()`\n",
    "3. create your own by `Operator`, by this method, you must implement gate on `Statevector`\n",
    "\n",
    "**Matrix Representation:**\n",
    "$$ \n",
    "Y =\n",
    "\\begin{pmatrix}\n",
    "0 & -i \\\\\n",
    "i & 0\n",
    "\\end{pmatrix}\n",
    "$$\n",
    "\n",
    "**Simplify:**\n",
    "\n",
    "$$\n",
    "\\ket{0} \n",
    "\\rightarrow \n",
    "i\\ket{1}$$\n",
    "\n",
    "$$\n",
    "\\ket{1} \n",
    "\\rightarrow \n",
    "-i\\ket{0}\n",
    "$$"
   ]
  },
  {
   "cell_type": "code",
   "execution_count": 18,
   "metadata": {},
   "outputs": [
    {
     "data": {
      "text/html": [
       "<pre style=\"word-wrap: normal;white-space: pre;background: #fff0;line-height: 1.1;font-family: &quot;Courier New&quot;,Courier,monospace\">   ┌───┐\n",
       "q: ┤ Y ├\n",
       "   └───┘</pre>"
      ],
      "text/plain": [
       "   ┌───┐\n",
       "q: ┤ Y ├\n",
       "   └───┘"
      ]
     },
     "metadata": {},
     "output_type": "display_data"
    },
    {
     "data": {
      "text/plain": [
       "array([[ 0.+0.j, -0.-1.j],\n",
       "       [ 0.+1.j,  0.+0.j]])"
      ]
     },
     "metadata": {},
     "output_type": "display_data"
    },
    {
     "data": {
      "text/plain": [
       "array([[ 0.5+0.5j, -0.5-0.5j],\n",
       "       [ 0.5+0.5j,  0.5+0.5j]])"
      ]
     },
     "metadata": {},
     "output_type": "display_data"
    },
    {
     "data": {
      "text/plain": [
       "array([[1.+0.j, 0.+0.j, 0.+0.j, 0.+0.j],\n",
       "       [0.+0.j, 0.+0.j, 0.+0.j, 0.-1.j],\n",
       "       [0.+0.j, 0.+0.j, 1.+0.j, 0.+0.j],\n",
       "       [0.+0.j, 0.+1.j, 0.+0.j, 0.+0.j]])"
      ]
     },
     "metadata": {},
     "output_type": "display_data"
    }
   ],
   "source": [
    "# 1. using y() from library\n",
    "from qiskit import QuantumCircuit\n",
    "qc = QuantumCircuit(1)\n",
    "qc.y(0)\n",
    "display(qc.draw())\n",
    "\n",
    "# 2. using YGate from library\n",
    "from qiskit.circuit.library import YGate\n",
    "gate = YGate()\n",
    "display(gate.to_matrix())             # Y gate\n",
    "display(gate.power(1/2).to_matrix())  # √Y gate\n",
    "display(gate.control(1).to_matrix())  # CY (controlled Y)\n",
    "\n",
    "# 3. create your own\n",
    "from qiskit.quantum_info import Operator\n",
    "Y = Operator([[0.+0.j, -0.-1.j],\n",
    "       [ 0.+1.j,  0.+0.j]])"
   ]
  },
  {
   "cell_type": "markdown",
   "metadata": {},
   "source": [
    "---"
   ]
  },
  {
   "cell_type": "markdown",
   "metadata": {},
   "source": [
    "#### 1.3 ZGate\n",
    "\n",
    "The gate is equivalent to a  phase flip.\n",
    "\n",
    "There is there well know method to call Pauli-Z gate. \n",
    "1. called `from qiskit import QuantumCircuit` then use `qc.z()` on to circuit\n",
    "2. called `from qiskit.circuit.library import ZGate` then use `ZGate()`\n",
    "3. create your own by `Operator`, by this method, you must implement gate on `Statevector`\n",
    "\n",
    "**Matrix Representation:**\n",
    "$$ \n",
    "Z =\n",
    "\\begin{pmatrix}\n",
    "1 & 0 \\\\\n",
    "0 & -1\n",
    "\\end{pmatrix}\n",
    "$$\n",
    "\n",
    "**Simplify:**\n",
    "\n",
    "$$\n",
    "\\ket{0} \n",
    "\\rightarrow \n",
    "\\ket{0}$$\n",
    "\n",
    "$$\n",
    "\\ket{1} \n",
    "\\rightarrow \n",
    "-\\ket{1}\n",
    "$$"
   ]
  },
  {
   "cell_type": "code",
   "execution_count": null,
   "metadata": {},
   "outputs": [
    {
     "data": {
      "text/html": [
       "<pre style=\"word-wrap: normal;white-space: pre;background: #fff0;line-height: 1.1;font-family: &quot;Courier New&quot;,Courier,monospace\">   ┌───┐\n",
       "q: ┤ Z ├\n",
       "   └───┘</pre>"
      ],
      "text/plain": [
       "   ┌───┐\n",
       "q: ┤ Z ├\n",
       "   └───┘"
      ]
     },
     "metadata": {},
     "output_type": "display_data"
    },
    {
     "data": {
      "text/plain": [
       "array([[ 1.+0.j,  0.+0.j],\n",
       "       [ 0.+0.j, -1.+0.j]])"
      ]
     },
     "metadata": {},
     "output_type": "display_data"
    },
    {
     "data": {
      "text/plain": [
       "array([[1.000000e+00+0.j, 0.000000e+00+0.j],\n",
       "       [0.000000e+00+0.j, 6.123234e-17+1.j]])"
      ]
     },
     "metadata": {},
     "output_type": "display_data"
    },
    {
     "data": {
      "text/plain": [
       "array([[ 1.+0.j,  0.+0.j,  0.+0.j,  0.+0.j],\n",
       "       [ 0.+0.j,  1.+0.j,  0.+0.j,  0.+0.j],\n",
       "       [ 0.+0.j,  0.+0.j,  1.+0.j,  0.+0.j],\n",
       "       [ 0.+0.j,  0.+0.j,  0.+0.j, -1.+0.j]])"
      ]
     },
     "metadata": {},
     "output_type": "display_data"
    }
   ],
   "source": [
    "# 1. using z() from library\n",
    "from qiskit import QuantumCircuit\n",
    "qc = QuantumCircuit(1)\n",
    "qc.z(0)\n",
    "display(qc.draw())\n",
    "\n",
    "# 2. using ZGate from library\n",
    "from qiskit.circuit.library import ZGate\n",
    "gate = ZGate()\n",
    "display(gate.to_matrix())             # Z gate\n",
    "display(gate.power(1/2).to_matrix())  # √Z gate\n",
    "display(gate.control(1).to_matrix())  # CZ (controlled Z)\n",
    "\n",
    "# 3. create your own\n",
    "from qiskit.quantum_info import Operator\n",
    "Z = Operator([[1.+0.j, 0.+0.j],\n",
    "       [ 0.+0.j,  -1.+0.j]])"
   ]
  },
  {
   "cell_type": "markdown",
   "metadata": {},
   "source": [
    "---"
   ]
  },
  {
   "cell_type": "markdown",
   "metadata": {},
   "source": [
    "#### 1.4 TGate\n",
    "\n",
    "The gate is equivalent to phase rotation by $\\dfrac{\\pi}{4}$ .\n",
    "\n",
    "There is there well know method to call T gate. \n",
    "1. called `from qiskit import QuantumCircuit` then use `qc.t()` on to circuit\n",
    "2. called `from qiskit.circuit.library import TGate` then use `TGate()`\n",
    "3. create your own by `Operator`, by this method, you must implement gate on `Statevector`\n",
    "\n",
    "**Matrix Representation:**\n",
    "$$ \n",
    "T =\n",
    "\\begin{pmatrix}\n",
    "1 & 0 \\\\\n",
    "0 & e^{i\\pi/4}\n",
    "\\end{pmatrix}\n",
    "$$"
   ]
  },
  {
   "cell_type": "code",
   "execution_count": 34,
   "metadata": {},
   "outputs": [
    {
     "data": {
      "text/html": [
       "<pre style=\"word-wrap: normal;white-space: pre;background: #fff0;line-height: 1.1;font-family: &quot;Courier New&quot;,Courier,monospace\">   ┌───┐\n",
       "q: ┤ T ├\n",
       "   └───┘</pre>"
      ],
      "text/plain": [
       "   ┌───┐\n",
       "q: ┤ T ├\n",
       "   └───┘"
      ]
     },
     "metadata": {},
     "output_type": "display_data"
    },
    {
     "data": {
      "text/plain": [
       "array([[1.        +0.j        , 0.        +0.j        ],\n",
       "       [0.        +0.j        , 0.70710678+0.70710678j]])"
      ]
     },
     "metadata": {},
     "output_type": "display_data"
    }
   ],
   "source": [
    "# 1. using z() from library\n",
    "from qiskit import QuantumCircuit\n",
    "qc = QuantumCircuit(1)\n",
    "qc.t(0)\n",
    "display(qc.draw())\n",
    "\n",
    "# 2. using ZGate from library\n",
    "from qiskit.circuit.library import TGate\n",
    "gate = TGate()\n",
    "display(gate.to_matrix())             # T gate\n",
    "\n",
    "# 3. create your own\n",
    "from qiskit.quantum_info import Operator\n",
    "from math import sqrt\n",
    "T = Operator([[1, 0], \n",
    "       [0, (1 + 1.0j) / sqrt(2)]])"
   ]
  },
  {
   "cell_type": "markdown",
   "metadata": {},
   "source": [
    "---"
   ]
  },
  {
   "cell_type": "markdown",
   "metadata": {},
   "source": [
    "#### 1.5 SGate\n",
    "\n",
    "The gate is equivalent to phase rotation by $\\dfrac{\\pi}{2}$ .\n",
    "\n",
    "There is there well know method to call S gate. \n",
    "1. called `from qiskit import QuantumCircuit` then use `qc.s()` on to circuit\n",
    "2. called `from qiskit.circuit.library import SGate` then use `SGate()`\n",
    "3. create your own by `Operator`, by this method, you must implement gate on `Statevector`\n",
    "\n",
    "**Matrix Representation:**\n",
    "$$ \n",
    "S =\n",
    "\\begin{pmatrix}\n",
    "1 & 0 \\\\\n",
    "0 & i\n",
    "\\end{pmatrix}\n",
    "$$"
   ]
  },
  {
   "cell_type": "code",
   "execution_count": 36,
   "metadata": {},
   "outputs": [
    {
     "data": {
      "text/html": [
       "<pre style=\"word-wrap: normal;white-space: pre;background: #fff0;line-height: 1.1;font-family: &quot;Courier New&quot;,Courier,monospace\">   ┌───┐\n",
       "q: ┤ S ├\n",
       "   └───┘</pre>"
      ],
      "text/plain": [
       "   ┌───┐\n",
       "q: ┤ S ├\n",
       "   └───┘"
      ]
     },
     "metadata": {},
     "output_type": "display_data"
    },
    {
     "data": {
      "text/plain": [
       "array([[1.+0.j, 0.+0.j],\n",
       "       [0.+0.j, 0.+1.j]])"
      ]
     },
     "metadata": {},
     "output_type": "display_data"
    },
    {
     "data": {
      "text/plain": [
       "array([[1.+0.j, 0.+0.j, 0.+0.j, 0.+0.j],\n",
       "       [0.+0.j, 1.+0.j, 0.+0.j, 0.+0.j],\n",
       "       [0.+0.j, 0.+0.j, 1.+0.j, 0.+0.j],\n",
       "       [0.+0.j, 0.+0.j, 0.+0.j, 0.+1.j]])"
      ]
     },
     "metadata": {},
     "output_type": "display_data"
    }
   ],
   "source": [
    "# 1. using s() from library\n",
    "from qiskit import QuantumCircuit\n",
    "qc = QuantumCircuit(1)\n",
    "qc.s(0)\n",
    "display(qc.draw())\n",
    "\n",
    "# 2. using SGate from library\n",
    "from qiskit.circuit.library import SGate\n",
    "gate = SGate()\n",
    "display(gate.to_matrix())             # S gate\n",
    "display(gate.control(1).to_matrix())  # CS (controlled S)\n",
    "\n",
    "# 3. create your own\n",
    "from qiskit.quantum_info import Operator\n",
    "S = Operator([[1, 0], \n",
    "            [0, 0.+1.j]])"
   ]
  },
  {
   "cell_type": "markdown",
   "metadata": {},
   "source": [
    "---"
   ]
  },
  {
   "cell_type": "markdown",
   "metadata": {},
   "source": [
    "###$ 1.6 Hadamard \n",
    "\n",
    "\n",
    "The gate is to bring state into **entanglement** and also equivalent `QFT(1)` which is to change basis of bloch sphere.\n",
    "\n",
    "There is there well know method to call S gate. \n",
    "1. called `from qiskit import QuantumCircuit` then use `qc.h()` on to circuit\n",
    "2. called `from qiskit.circuit.library import HGate` then use `HGate()`\n",
    "3. create your own by `Operator`, by this method, you must implement gate on `Statevector`\n",
    "\n",
    "**Matrix Representation:**\n",
    "$$ \n",
    "H =\n",
    "\\dfrac{1}{\\sqrt{2}}\n",
    "\\begin{pmatrix}\n",
    "1 & 1 \\\\\n",
    "1 & -1\n",
    "\\end{pmatrix}\n",
    "$$\n",
    "\n",
    "**Simplify:**\n",
    "\n",
    "$$\n",
    "\\ket{0} \n",
    "\\rightarrow \n",
    "\\ket{+}$$\n",
    "\n",
    "$$\n",
    "\\ket{1} \n",
    "\\rightarrow \n",
    "\\ket{-}\n",
    "$$"
   ]
  },
  {
   "cell_type": "code",
   "execution_count": 40,
   "metadata": {},
   "outputs": [
    {
     "data": {
      "text/html": [
       "<pre style=\"word-wrap: normal;white-space: pre;background: #fff0;line-height: 1.1;font-family: &quot;Courier New&quot;,Courier,monospace\">   ┌───┐\n",
       "q: ┤ H ├\n",
       "   └───┘</pre>"
      ],
      "text/plain": [
       "   ┌───┐\n",
       "q: ┤ H ├\n",
       "   └───┘"
      ]
     },
     "metadata": {},
     "output_type": "display_data"
    },
    {
     "data": {
      "text/plain": [
       "array([[ 0.70710678+0.j,  0.70710678+0.j],\n",
       "       [ 0.70710678+0.j, -0.70710678+0.j]])"
      ]
     },
     "metadata": {},
     "output_type": "display_data"
    },
    {
     "data": {
      "text/plain": [
       "array([[ 1.        +0.j,  0.        +0.j,  0.        +0.j,\n",
       "         0.        +0.j],\n",
       "       [ 0.        +0.j,  0.70710678+0.j,  0.        +0.j,\n",
       "         0.70710678+0.j],\n",
       "       [ 0.        +0.j,  0.        +0.j,  1.        +0.j,\n",
       "         0.        +0.j],\n",
       "       [ 0.        +0.j,  0.70710678+0.j,  0.        +0.j,\n",
       "        -0.70710678+0.j]])"
      ]
     },
     "metadata": {},
     "output_type": "display_data"
    }
   ],
   "source": [
    "# 1. using s() from library\n",
    "from qiskit import QuantumCircuit\n",
    "qc = QuantumCircuit(1)\n",
    "qc.h(0)\n",
    "display(qc.draw())\n",
    "\n",
    "# 2. using SGate from library\n",
    "from qiskit.circuit.library import HGate\n",
    "gate = HGate()\n",
    "display(gate.to_matrix())             # H gate\n",
    "display(gate.control(1).to_matrix())  # CH (controlled H)\n",
    "\n",
    "# 3. create your own\n",
    "from qiskit.quantum_info import Operator\n",
    "S = Operator([[1/sqrt(2), 1/sqrt(2)], \n",
    "              [1/sqrt(2), -1/sqrt(2)]])"
   ]
  },
  {
   "cell_type": "markdown",
   "metadata": {},
   "source": [
    "---"
   ]
  }
 ],
 "metadata": {
  "kernelspec": {
   "display_name": "CUQC",
   "language": "python",
   "name": "python3"
  },
  "language_info": {
   "codemirror_mode": {
    "name": "ipython",
    "version": 3
   },
   "file_extension": ".py",
   "mimetype": "text/x-python",
   "name": "python",
   "nbconvert_exporter": "python",
   "pygments_lexer": "ipython3",
   "version": "3.12.5"
  }
 },
 "nbformat": 4,
 "nbformat_minor": 2
}
