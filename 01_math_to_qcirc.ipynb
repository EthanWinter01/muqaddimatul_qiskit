{
 "cells": [
  {
   "cell_type": "markdown",
   "metadata": {},
   "source": [
    "# Episode 01: Basic of Quantum Circuit and Mathematical Representation"
   ]
  },
  {
   "cell_type": "markdown",
   "metadata": {},
   "source": [
    "### 1. Basic Gates\n",
    "These are list of primitive avaible in qiskit. Access them via ``QuantumCircuit``\n",
    "| Gate | Description | simplify |\n",
    "| :--- | :--- | :--- |\n",
    "| XGate | $\\sigma_x$ | bit flip|\n",
    "| YGate | $\\sigma_y$ | imaginary phase flip |\n",
    "| ZGate | $\\sigma_z$ | phase flip |\n",
    "\n",
    "---\n",
    "#### 1.1 XGate\n",
    "**Matrix Representation:**\n",
    "$$ \n",
    "M =\n",
    "\\begin{pmatrix}\n",
    "1 & 0 \\\\\n",
    "0 & 1\n",
    "\\end{pmatrix}\n",
    "$$\n",
    "Here's the code example:\n",
    "```python\n",
    "from qiskit.circuit.library import XGate\n",
    "gate = XGate()\n",
    "print(gate.to_matrix())             # X gate\n",
    "print(gate.power(1/2).to_matrix())  # √X gate\n",
    "print(gate.control(1).to_matrix())  # CX (controlled X)\n",
    "```\n",
    "Here's the result: \n",
    "\n",
    "```text\n",
    "[[0.+0.j 1.+0.j]\n",
    " [1.+0.j 0.+0.j]]\n",
    "[[0.5+0.5j 0.5-0.5j]\n",
    " [0.5-0.5j 0.5+0.5j]]\n",
    "[[1.+0.j 0.+0.j 0.+0.j 0.+0.j]\n",
    " [0.+0.j 0.+0.j 0.+0.j 1.+0.j]\n",
    " [0.+0.j 0.+0.j 1.+0.j 0.+0.j]\n",
    " [0.+0.j 1.+0.j 0.+0.j 0.+0.j]]\n",
    "```\n",
    "\n",
    "**NOTE:** \n",
    "1. As you can see, in qiskit we can replicate ``CXGate`` using ``XGate.control(1)``.\n",
    "2. Mathemical represention of $\\mathbb{C}$ is $Z = a+bj$ while $a$ represent real part or $Re(Z)$ and $b$ representing the complex coefficient or $Im(Z)$ \n",
    "\n",
    "---\n",
    "#### 1.2 YGate\n",
    "\n",
    "---\n",
    "#### 1.3 ZGate\n",
    "\n",
    "---\n",
    "#### 1.4 HGate"
   ]
  },
  {
   "cell_type": "code",
   "execution_count": null,
   "metadata": {},
   "outputs": [
    {
     "data": {
      "text/html": [
       "<pre style=\"word-wrap: normal;white-space: pre;background: #fff0;line-height: 1.1;font-family: &quot;Courier New&quot;,Courier,monospace\">     ┌───┐┌───┐\n",
       "q_0: ┤ X ├┤ H ├\n",
       "     ├───┤├───┤\n",
       "q_1: ┤ Y ├┤ H ├\n",
       "     ├───┤├───┤\n",
       "q_2: ┤ Z ├┤ H ├\n",
       "     └───┘└───┘</pre>"
      ],
      "text/plain": [
       "     ┌───┐┌───┐\n",
       "q_0: ┤ X ├┤ H ├\n",
       "     ├───┤├───┤\n",
       "q_1: ┤ Y ├┤ H ├\n",
       "     ├───┤├───┤\n",
       "q_2: ┤ Z ├┤ H ├\n",
       "     └───┘└───┘"
      ]
     },
     "metadata": {},
     "output_type": "display_data"
    }
   ],
   "source": [
    "# Now let see its code\n",
    "from qiskit import QuantumCircuit\n",
    "\n",
    "qc = QuantumCircuit(3)\n",
    "qc.x(0)\n",
    "qc.y(1)\n",
    "qc.z(2)\n",
    "qc.h(range(0,3))\n",
    "display(qc.draw())"
   ]
  }
 ],
 "metadata": {
  "kernelspec": {
   "display_name": "CUQC",
   "language": "python",
   "name": "python3"
  },
  "language_info": {
   "codemirror_mode": {
    "name": "ipython",
    "version": 3
   },
   "file_extension": ".py",
   "mimetype": "text/x-python",
   "name": "python",
   "nbconvert_exporter": "python",
   "pygments_lexer": "ipython3",
   "version": "3.12.5"
  }
 },
 "nbformat": 4,
 "nbformat_minor": 2
}
