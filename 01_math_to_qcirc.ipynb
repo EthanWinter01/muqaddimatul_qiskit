{
 "cells": [
  {
   "cell_type": "markdown",
   "metadata": {},
   "source": [
    "# Episode 01: Basics of Circuit and Mathematical Representation"
   ]
  },
  {
   "cell_type": "markdown",
   "metadata": {},
   "source": [
    "### 1. Basic Gates\n",
    "These are list of primitive avaible in qiskit. Access them via ``QuantumCircuit``\n",
    "| Gate | Description | simplify |\n",
    "| :--- | :--- | :--- |\n",
    "| XGate | $\\sigma_x$ | bit flip|\n",
    "| YGate | $\\sigma_y$ | imaginary phase flip |\n",
    "| ZGate | $\\sigma_z$ | phase flip |\n",
    "\n",
    "#### 1.1 XGate\n",
    "It's mathematical representation below:\n",
    "$$ \n",
    "M =\n",
    "\\begin{pmatrix}\n",
    "1 & 0 \\\\\n",
    "0 & 1\n",
    "\\end{pmatrix}\n",
    "$$\n",
    "Here's the code example:\n",
    "```python\n",
    "from qiskit.circuit.library import XGate\n",
    "gate = XGate()\n",
    "print(gate.to_matrix())             # X gate\n",
    "print(gate.power(1/2).to_matrix())  # √X gate\n",
    "print(gate.control(1).to_matrix())  # CX (controlled X)\n",
    "```\n",
    "Here's the result:\n",
    "```text\n",
    "[[0.+0.j 1.+0.j]\n",
    " [1.+0.j 0.+0.j]]\n",
    "[[0.5+0.5j 0.5-0.5j]\n",
    " [0.5-0.5j 0.5+0.5j]]\n",
    "[[1.+0.j 0.+0.j 0.+0.j 0.+0.j]\n",
    " [0.+0.j 0.+0.j 0.+0.j 1.+0.j]\n",
    " [0.+0.j 0.+0.j 1.+0.j 0.+0.j]\n",
    " [0.+0.j 1.+0.j 0.+0.j 0.+0.j]]\n",
    "```\n",
    "**NOTE:** As you can see, in qiskit we can replicate ``CXGate`` using ``XGate.control(1)``.\n",
    "#### 1.2 YGate\n",
    "#### 1.3 ZGate\n",
    "#### 1.4 HGate"
   ]
  },
  {
   "cell_type": "markdown",
   "metadata": {},
   "source": []
  }
 ],
 "metadata": {
  "kernelspec": {
   "display_name": "CUQC",
   "language": "python",
   "name": "python3"
  },
  "language_info": {
   "name": "python",
   "version": "3.12.5"
  }
 },
 "nbformat": 4,
 "nbformat_minor": 2
}
